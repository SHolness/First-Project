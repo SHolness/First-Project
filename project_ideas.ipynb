{
 "cells": [
  {
   "cell_type": "markdown",
   "metadata": {},
   "source": [
    "# First Project Ideas\n",
    "\n",
    "## Current number one choice: a walking robot\n",
    "\n",
    "I'm think I'd like to make a robot that I could give commands to wander around (or swim in the lake). After doing some research and trying to find something that would be a good mix of hardware and coding design, I found this guy's blog with a hexapod robot that can walk and turn. It seems that the project is relatively inexpensive and requires an arduino board, which I know we have. \n",
    "\n",
    "The guy's page on this robot is here. https://oscarliang.com/simple-hexapod-robot-arduino/\n",
    "\n",
    "### Materials\n",
    "* Arduino\n",
    "* 12 x 9g servos (a specific kind of motor that is used to help a robot walk; I think it knows the angle that the motor is holding things at and then adjusting accordingly. )\n",
    "* 4 AA batteries\n",
    "* Bread board (don't know what this is either; he could be foreign and it's actually something to do with a bread-holder, and he also could be talking about a circuit board. More on that later.)\n",
    "* Styrene sheet (used to make the legs)\n",
    "\n",
    "#### Optional (?) materials\n",
    "* Large capacitor for power supply\n",
    "* Power switch\n",
    "\n",
    "### Background Research\n",
    "#### Robot Movement: Inverse Kinematics\n",
    "* This is off the robot builder's website, though I'm sure that I can find other descriptions of it that'll make it easier to understand: https://oscarliang.com/inverse-kinematics-and-trigonometry-basics/\n",
    "\n",
    "#### Looking for examples of code in Python, or figuring out how to read VB\n",
    "* Our friend here coded his robot in Visual Basic, so I'll either have to figure out how to make the robot do what I want in Python using some other resources, or learn a little VB (which I was thinking about doing anyway? It's what Excel uses to write macros, so I was hoping that in my free time (hah!) I could start reading up on how it works. I did buy a VBA book over the summer, but I haven't started working on it yet. Moreover, I don't know how big a leap it is from VB to VBA, if it's not the same language.)\n",
    "\n",
    "### Current Summary\n",
    "This looks like a really fun project, but it may be too challenging at this point. If you have any ideas or thoughts for me on the complexity of this idea and how much class time I'll have to work on it, I'm all ears..."
   ]
  },
  {
   "cell_type": "code",
   "execution_count": null,
   "metadata": {
    "collapsed": true
   },
   "outputs": [],
   "source": []
  }
 ],
 "metadata": {
  "anaconda-cloud": {},
  "kernelspec": {
   "display_name": "Python [Root]",
   "language": "python",
   "name": "Python [Root]"
  },
  "language_info": {
   "codemirror_mode": {
    "name": "ipython",
    "version": 3
   },
   "file_extension": ".py",
   "mimetype": "text/x-python",
   "name": "python",
   "nbconvert_exporter": "python",
   "pygments_lexer": "ipython3",
   "version": "3.5.2"
  }
 },
 "nbformat": 4,
 "nbformat_minor": 0
}
